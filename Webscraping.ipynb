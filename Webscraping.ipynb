{
 "cells": [
  {
   "cell_type": "markdown",
   "metadata": {},
   "source": [
    "# Webscraping Discurso Presidente."
   ]
  },
  {
   "cell_type": "markdown",
   "metadata": {},
   "source": [
    "## Librerìas o paquetes. "
   ]
  },
  {
   "cell_type": "code",
   "execution_count": null,
   "metadata": {},
   "outputs": [],
   "source": [
    "import requests\n",
    "from bs4 import BeautifulSoup\n",
    "import re\n",
    "import os"
   ]
  },
  {
   "cell_type": "markdown",
   "metadata": {},
   "source": [
    "## Programa."
   ]
  },
  {
   "cell_type": "code",
   "execution_count": null,
   "metadata": {},
   "outputs": [],
   "source": [
    "url='https://prensa.presidencia.cl/discursos.aspx'"
   ]
  },
  {
   "cell_type": "markdown",
   "metadata": {},
   "source": [
    "### Definimos la ùltima pàgina de bùsqueda."
   ]
  },
  {
   "cell_type": "code",
   "execution_count": null,
   "metadata": {},
   "outputs": [],
   "source": [
    "page= requests.get(url, verify=False)\n",
    "html = BeautifulSoup(page.content, 'html')"
   ]
  },
  {
   "cell_type": "code",
   "execution_count": null,
   "metadata": {},
   "outputs": [],
   "source": [
    "fin=html.find('ul',{'class': 'paginador'})\n",
    "el_ultimo=fin.findAll('a',{'class': 'next','href':True})[-1]\n",
    "ult_page=int(el_ultimo['href'].split('=')[-1])"
   ]
  },
  {
   "cell_type": "code",
   "execution_count": null,
   "metadata": {},
   "outputs": [],
   "source": [
    "print(ult_page)"
   ]
  },
  {
   "cell_type": "markdown",
   "metadata": {},
   "source": [
    "### Realizamos la iteraciòn por cada una de las páginas y cada discursos. "
   ]
  },
  {
   "cell_type": "code",
   "execution_count": null,
   "metadata": {
    "scrolled": false
   },
   "outputs": [],
   "source": [
    "for i in range(1,ult_page) :\n",
    "    # por cada pàgina\n",
    "    if i==1:\n",
    "        url='https://prensa.presidencia.cl/discursos.aspx' \n",
    "    else:\n",
    "        url='https://prensa.presidencia.cl/discursos.aspx?page='+str(i)\n",
    "    page= requests.get(url, verify=False)\n",
    "    html = BeautifulSoup(page.content, 'html')\n",
    "\n",
    "    z=html.findAll('a',{'class': 'btn', 'href': True})\n",
    "    \n",
    "    # por cada discurso\n",
    "    for j in z:\n",
    "        direccion='https://prensa.presidencia.cl/'+j['href']\n",
    "        page=requests.get(direccion, verify=False)\n",
    "        html2= BeautifulSoup(page.content, 'html')\n",
    "        p=html2.find('span',{'id':'main_ltContenido'})\n",
    "        \n",
    "        # creamos el directorio si no existe\n",
    "        if not os.path.exists('Discursos'):\n",
    "            os.makedirs('Discursos')\n",
    "        \n",
    "        if str(j['href'].split('=')[-1])!='agenda.aspx':# se excluye el caso extra de la agenda que viene en el btn\n",
    "            with open('./Discursos/'+str(j['href'].split('=')[-1])+'.txt', 'w',encoding='utf8') as f:\n",
    "                f.write(p.text)\n"
   ]
  }
 ],
 "metadata": {
  "kernelspec": {
   "display_name": "Python 3",
   "language": "python",
   "name": "python3"
  },
  "language_info": {
   "codemirror_mode": {
    "name": "ipython",
    "version": 3
   },
   "file_extension": ".py",
   "mimetype": "text/x-python",
   "name": "python",
   "nbconvert_exporter": "python",
   "pygments_lexer": "ipython3",
   "version": "3.7.7"
  }
 },
 "nbformat": 4,
 "nbformat_minor": 4
}
